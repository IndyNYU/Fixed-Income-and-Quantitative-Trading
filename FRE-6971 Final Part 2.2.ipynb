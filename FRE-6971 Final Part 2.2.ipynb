{
 "cells": [
  {
   "cell_type": "markdown",
   "metadata": {
    "collapsed": true
   },
   "source": [
    "FRE-6971 Final Part 2 5/14/2018 by Yidi Wang Hope you enjoy my final project. :)"
   ]
  },
  {
   "cell_type": "markdown",
   "metadata": {},
   "source": [
    "Problem 2"
   ]
  },
  {
   "cell_type": "code",
   "execution_count": 1,
   "metadata": {},
   "outputs": [
    {
     "name": "stderr",
     "output_type": "stream",
     "text": [
      "E:\\Python\\lib\\site-packages\\statsmodels\\compat\\pandas.py:56: FutureWarning: The pandas.core.datetools module is deprecated and will be removed in a future version. Please use the pandas.tseries module instead.\n",
      "  from pandas.core import datetools\n"
     ]
    }
   ],
   "source": [
    "import numpy as np\n",
    "import pandas as pd\n",
    "import matplotlib.pyplot as plt\n",
    "import statsmodels.api as sm\n",
    "import statsmodels.tsa.stattools as ts\n",
    "import scipy.optimize as opt\n",
    "import math as math\n",
    "%matplotlib inline"
   ]
  },
  {
   "cell_type": "code",
   "execution_count": 2,
   "metadata": {
    "collapsed": true
   },
   "outputs": [],
   "source": [
    "# 2.1 Estimation & residuals.\n",
    "# I choose the 1-Factor Vasicek Model.\n",
    "# dr(t) = (mu-k*r(t))dt + vol*dW(t)\n",
    "def mean_r(r0, p, t, dist='Q'):\n",
    "    mu,k,vol = p\n",
    "    m = r0 * np.exp(-k*t) + mu / k * (1 - np.exp(-k * t))\n",
    "    if (dist == 'F'):\n",
    "        m -= (vol ** 2) * pow(t,2)\n",
    "    return m\n",
    "def A(p, tau):\n",
    "    mu,k,vol = p\n",
    "    return (mu/k - vol**2/(2*pow(k,2))) * (B(tau,k)-tau) - vol**2/(4*k)*B(tau,k)\n",
    "def B(tau, k):\n",
    "    return (1-np.exp(-k*tau))/k\n",
    "def zero(t0, T, r_t0):\n",
    "    tau = T - t0\n",
    "    return np.exp(A(tau) - B(tau)*r_t0)"
   ]
  },
  {
   "cell_type": "code",
   "execution_count": 3,
   "metadata": {
    "collapsed": true
   },
   "outputs": [],
   "source": [
    "def fwd_rate(r0, p, t_fix, T0, T1, dist = 'Q', acrual = 0.25):\n",
    "    mu, k, vol = p\n",
    "    A_diff = A(p, T0-t_fix) - A(p, T1-t_fix)\n",
    "    B_diff = B(T0-t_fix, k) - B(T1-t_fix, k)\n",
    "    m = A_diff - B_diff * mean_r(r0,p,t_fix,dist)\n",
    "    v = vol ** 2 * t_fix * pow(B_diff, 2)\n",
    "    e = np.exp(m + v/2)\n",
    "    return 1/acrual * (e-1)"
   ]
  },
  {
   "cell_type": "code",
   "execution_count": 4,
   "metadata": {
    "collapsed": true
   },
   "outputs": [],
   "source": [
    "# Use the EuroDollar Futures Rate to fit the model.\n",
    "df = pd.read_csv('D:/FIproject/Constant_Maturity_ED.csv')\n",
    "df = df.set_index(['Date'])\n",
    "df.index = pd.to_datetime(df.index)\n",
    "sample_A = df[(df.index >= '2011-1-1') & (df.index <= '2015-1-1')]\n",
    "df_rates = df[df.index == '2011-1-3']"
   ]
  },
  {
   "cell_type": "code",
   "execution_count": 5,
   "metadata": {},
   "outputs": [
    {
     "data": {
      "text/html": [
       "<div>\n",
       "<style scoped>\n",
       "    .dataframe tbody tr th:only-of-type {\n",
       "        vertical-align: middle;\n",
       "    }\n",
       "\n",
       "    .dataframe tbody tr th {\n",
       "        vertical-align: top;\n",
       "    }\n",
       "\n",
       "    .dataframe thead th {\n",
       "        text-align: right;\n",
       "    }\n",
       "</style>\n",
       "<table border=\"1\" class=\"dataframe\">\n",
       "  <thead>\n",
       "    <tr style=\"text-align: right;\">\n",
       "      <th></th>\n",
       "      <th>ED1</th>\n",
       "      <th>ED2</th>\n",
       "      <th>ED3</th>\n",
       "      <th>ED4</th>\n",
       "      <th>ED5</th>\n",
       "      <th>ED6</th>\n",
       "      <th>ED7</th>\n",
       "      <th>ED8</th>\n",
       "      <th>ED9</th>\n",
       "      <th>ED10</th>\n",
       "      <th>ED11</th>\n",
       "      <th>ED12</th>\n",
       "      <th>ED13</th>\n",
       "      <th>ED14</th>\n",
       "      <th>ED15</th>\n",
       "      <th>ED16</th>\n",
       "      <th>ED17</th>\n",
       "      <th>ED18</th>\n",
       "      <th>ED19</th>\n",
       "      <th>ED20</th>\n",
       "    </tr>\n",
       "    <tr>\n",
       "      <th>Date</th>\n",
       "      <th></th>\n",
       "      <th></th>\n",
       "      <th></th>\n",
       "      <th></th>\n",
       "      <th></th>\n",
       "      <th></th>\n",
       "      <th></th>\n",
       "      <th></th>\n",
       "      <th></th>\n",
       "      <th></th>\n",
       "      <th></th>\n",
       "      <th></th>\n",
       "      <th></th>\n",
       "      <th></th>\n",
       "      <th></th>\n",
       "      <th></th>\n",
       "      <th></th>\n",
       "      <th></th>\n",
       "      <th></th>\n",
       "      <th></th>\n",
       "    </tr>\n",
       "  </thead>\n",
       "  <tbody>\n",
       "    <tr>\n",
       "      <th>2011-01-03</th>\n",
       "      <td>0.379928</td>\n",
       "      <td>0.455735</td>\n",
       "      <td>0.569463</td>\n",
       "      <td>0.747582</td>\n",
       "      <td>0.969288</td>\n",
       "      <td>1.238364</td>\n",
       "      <td>1.515791</td>\n",
       "      <td>1.802466</td>\n",
       "      <td>2.079458</td>\n",
       "      <td>2.36615</td>\n",
       "      <td>2.632994</td>\n",
       "      <td>2.9</td>\n",
       "      <td>3.127519</td>\n",
       "      <td>3.355027</td>\n",
       "      <td>3.572753</td>\n",
       "      <td>3.786207</td>\n",
       "      <td>3.965677</td>\n",
       "      <td>4.129543</td>\n",
       "      <td>4.278931</td>\n",
       "      <td>4.417864</td>\n",
       "    </tr>\n",
       "  </tbody>\n",
       "</table>\n",
       "</div>"
      ],
      "text/plain": [
       "                 ED1       ED2       ED3       ED4       ED5       ED6  \\\n",
       "Date                                                                     \n",
       "2011-01-03  0.379928  0.455735  0.569463  0.747582  0.969288  1.238364   \n",
       "\n",
       "                 ED7       ED8       ED9     ED10      ED11  ED12      ED13  \\\n",
       "Date                                                                          \n",
       "2011-01-03  1.515791  1.802466  2.079458  2.36615  2.632994   2.9  3.127519   \n",
       "\n",
       "                ED14      ED15      ED16      ED17      ED18      ED19  \\\n",
       "Date                                                                     \n",
       "2011-01-03  3.355027  3.572753  3.786207  3.965677  4.129543  4.278931   \n",
       "\n",
       "                ED20  \n",
       "Date                  \n",
       "2011-01-03  4.417864  "
      ]
     },
     "execution_count": 5,
     "metadata": {},
     "output_type": "execute_result"
    }
   ],
   "source": [
    "df_rates"
   ]
  },
  {
   "cell_type": "code",
   "execution_count": 6,
   "metadata": {},
   "outputs": [
    {
     "name": "stderr",
     "output_type": "stream",
     "text": [
      "E:\\Python\\lib\\site-packages\\ipykernel_launcher.py:3: DeprecationWarning: \n",
      ".ix is deprecated. Please use\n",
      ".loc for label based indexing or\n",
      ".iloc for positional indexing\n",
      "\n",
      "See the documentation here:\n",
      "http://pandas.pydata.org/pandas-docs/stable/indexing.html#ix-indexer-is-deprecated\n",
      "  This is separate from the ipykernel package so we can avoid doing imports until\n"
     ]
    }
   ],
   "source": [
    "x = range(1,21)\n",
    "term = [xx/4. for xx in x]\n",
    "y = df_rates.ix[0,:]\n",
    "def error(p):\n",
    "    yy = [fwd_rate(r0,p,t,t,t+0.25,'Q',acrual=0.25)*100 for t in term]\n",
    "    return yy - y"
   ]
  },
  {
   "cell_type": "code",
   "execution_count": 7,
   "metadata": {},
   "outputs": [
    {
     "name": "stdout",
     "output_type": "stream",
     "text": [
      "The parameters we get from the calibration: \n",
      "\n",
      "mu:      0.006053\n",
      "k:       0.001314\n",
      "sigma:  -0.000005\n",
      "1-Factor Vasicek Model: dr(t)=(0.006053-(0.001314*r(t))dt + -0.000005*dW(t)\n"
     ]
    }
   ],
   "source": [
    "r0 = 0.01\n",
    "p0 = (0.01, 0.01, 0.01)\n",
    "para = opt.leastsq(error, p0)[0]\n",
    "print('The parameters we get from the calibration: \\n')\n",
    "print('mu:      %.6f'%para[0])\n",
    "print('k:       %.6f'%para[1])\n",
    "print('sigma:  %.6f'%para[2])\n",
    "print('1-Factor Vasicek Model: dr(t)=(%.6f-(%.6f*r(t))dt + %.6f*dW(t)'%(para[0],para[1],para[2]))"
   ]
  },
  {
   "cell_type": "code",
   "execution_count": 8,
   "metadata": {},
   "outputs": [
    {
     "data": {
      "image/png": "[encoded data removed]",
      "text/plain": [
       "<matplotlib.figure.Figure at 0x1b7f34e37f0>"
      ]
     },
     "metadata": {},
     "output_type": "display_data"
    }
   ],
   "source": [
    "plt.figure(figsize = (8,6))\n",
    "plt.scatter(term, y, color = 'red', label = 'sample', linewidth = 3)\n",
    "xx = np.linspace(0, 21/4., 1000)\n",
    "yyy = [fwd_rate(r0, para, t, t, t+0.25, 'Q', acrual = 0.25)*100 for t in xx]\n",
    "plt.plot(xx, yyy, color = 'blue', label = 'fit', linewidth = 3)\n",
    "plt.show()"
   ]
  },
  {
   "cell_type": "code",
   "execution_count": 9,
   "metadata": {},
   "outputs": [
    {
     "name": "stdout",
     "output_type": "stream",
     "text": [
      "Jacobian Matrixi is: \n",
      " [[  3.76145422e+01  -2.13265419e-02  -5.64432144e-01]\n",
      " [  6.27139270e+01  -3.47709656e-01  -5.64652681e-01]\n",
      " [  8.78317356e+01  -7.12043047e-01  -5.64873219e-01]\n",
      " [  1.12967974e+02  -1.11443996e+00  -5.65093756e-01]\n",
      " [  1.38122648e+02  -1.55488253e+00  -5.65314293e-01]\n",
      " [  1.63295770e+02  -2.03347206e+00  -5.65528870e-01]\n",
      " [  1.88487351e+02  -2.55025029e+00  -5.65749407e-01]\n",
      " [  2.13697398e+02  -3.10526490e+00  -5.65969944e-01]\n",
      " [  2.38925922e+02  -3.69843245e+00  -5.66190481e-01]\n",
      " [  2.64172935e+02  -4.32998538e+00  -5.66411018e-01]\n",
      " [  2.89438438e+02  -4.99984026e+00  -5.66631556e-01]\n",
      " [  3.14722449e+02  -5.70805073e+00  -5.66846132e-01]\n",
      " [  3.40024978e+02  -6.45464063e+00  -5.67072630e-01]\n",
      " [  3.65346032e+02  -7.23966956e+00  -5.67293167e-01]\n",
      " [  3.90685618e+02  -8.06324482e+00  -5.67513704e-01]\n",
      " [  4.16043746e+02  -8.92546177e+00  -5.67728281e-01]\n",
      " [  4.41420436e+02  -9.82611775e+00  -5.67954779e-01]\n",
      " [  4.66815686e+02  -1.07654512e+01  -5.68169355e-01]\n",
      " [  4.92229509e+02  -1.17434323e+01  -5.68389893e-01]\n",
      " [  5.17661917e+02  -1.27601147e+01  -5.68616390e-01]]\n"
     ]
    }
   ],
   "source": [
    "# 2. On each iteration you should inspect if the problem becomes collinear.\n",
    "# Inspect the Jacobian matrix.\n",
    "para_j = opt.least_squares(error, p0).jac\n",
    "print('Jacobian Matrixi is: \\n',para_j)"
   ]
  },
  {
   "cell_type": "code",
   "execution_count": 10,
   "metadata": {},
   "outputs": [
    {
     "name": "stdout",
     "output_type": "stream",
     "text": [
      "Correlation matrix of the Jacobian is :\n",
      "           0         1         2\n",
      "0  1.000000 -0.989639 -0.999998\n",
      "1 -0.989639  1.000000  0.989477\n",
      "2 -0.999998  0.989477  1.000000\n"
     ]
    }
   ],
   "source": [
    "print('Correlation matrix of the Jacobian is :\\n', pd.DataFrame(para_j).corr())"
   ]
  },
  {
   "cell_type": "code",
   "execution_count": 11,
   "metadata": {},
   "outputs": [
    {
     "name": "stdout",
     "output_type": "stream",
     "text": [
      "eigenvalue: \n",
      "\n",
      "[  2.23580839e+04   3.30900404e-01   5.44109517e-12]\n"
     ]
    }
   ],
   "source": [
    "# According to the above result that it really shows collinearity.\n",
    "# 3. Use the PCA rank reduction to work with this problem.\n",
    "coef = pd.DataFrame(para_j)\n",
    "C = coef.cov()\n",
    "evals, evecs = np.linalg.eig(C)\n",
    "indices = np.argsort(evals)\n",
    "indices = indices[::-1]\n",
    "evals = evals[indices]\n",
    "evecs = evecs[:,indices]\n",
    "print('eigenvalue: \\n')\n",
    "print(evals)"
   ]
  },
  {
   "cell_type": "code",
   "execution_count": 12,
   "metadata": {},
   "outputs": [
    {
     "name": "stdout",
     "output_type": "stream",
     "text": [
      "PCA parameters: \n",
      "\n",
      "[[  9.99648111e-01  -2.65264763e-02   8.77400314e-06]\n",
      " [ -2.65264763e-02  -9.99648111e-01   2.51481259e-06]\n",
      " [ -8.70420655e-06   2.74667104e-06   1.00000000e+00]]\n"
     ]
    }
   ],
   "source": [
    "print('PCA parameters: \\n')\n",
    "print(evecs)"
   ]
  },
  {
   "cell_type": "code",
   "execution_count": 13,
   "metadata": {},
   "outputs": [
    {
     "name": "stdout",
     "output_type": "stream",
     "text": [
      "PCA_1: 0.999648*mu + -0.026526*k + -0.000009*vol\n"
     ]
    }
   ],
   "source": [
    "# Use mu, k and vol to substitute the PCA_1.\n",
    "print('PCA_1: %.6f*mu + %.6f*k + %.6f*vol'%(evecs[0,0],evecs[1,0],evecs[2,0]))"
   ]
  },
  {
   "cell_type": "code",
   "execution_count": 14,
   "metadata": {
    "collapsed": true
   },
   "outputs": [],
   "source": [
    "# 4. Generate time series of the residuals (input futures date - model futures rate) \n",
    "#    for all 20 interploated futrues and study in-sample time series properties of the residuals.\n",
    "#    Stationary, mean-reversion(half-life), volatitlity and shape of the distribution."
   ]
  },
  {
   "cell_type": "code",
   "execution_count": 15,
   "metadata": {
    "collapsed": true
   },
   "outputs": [],
   "source": [
    "# Calculate the overall residuals.\n",
    "residual_list = []\n",
    "for i in range(len(sample_A.index)):\n",
    "    y = sample_A.iloc[i,:]\n",
    "    yy = [fwd_rate(r0,para,t,t,t+0.25,'Q',acrual=0.25)*100 for t in term]\n",
    "    residual = y - yy \n",
    "    residual_list.append(residual)"
   ]
  },
  {
   "cell_type": "code",
   "execution_count": 16,
   "metadata": {
    "collapsed": true
   },
   "outputs": [],
   "source": [
    "# Define a function to generate the time-series residual from the data.\n",
    "def generate_ts(residual,n):\n",
    "    list_ED = []\n",
    "    for i in range(992):\n",
    "        ED = residual[i].iloc[n]\n",
    "        list_ED.append(ED)\n",
    "    return pd.DataFrame(list_ED,index=sample_A.index)"
   ]
  },
  {
   "cell_type": "code",
   "execution_count": 17,
   "metadata": {
    "collapsed": true
   },
   "outputs": [],
   "source": [
    "ED1_residual = generate_ts(residual_list,0)[0]"
   ]
  },
  {
   "cell_type": "code",
   "execution_count": 18,
   "metadata": {
    "collapsed": true
   },
   "outputs": [],
   "source": [
    "results = ts.adfuller(ED1_residual)\n",
    "# Define the function to calculate the properties of the residuals:\n",
    "# including stationarity, half-life and volatility.\n",
    "def AR_1(data):\n",
    "    data_lag = data.shift(1).dropna()\n",
    "    df = data.drop(data.index[0]).dropna()\n",
    "    X = data_lag.as_matrix()\n",
    "    X_I = sm.add_constant(X)\n",
    "    Y = df.as_matrix()\n",
    "    l1 = sm.OLS(Y, X_I).fit()\n",
    "    return l1\n",
    "def HF(b):\n",
    "    hf = math.log(0.5)/math.log(b)\n",
    "    return hf"
   ]
  },
  {
   "cell_type": "code",
   "execution_count": 19,
   "metadata": {
    "collapsed": true
   },
   "outputs": [],
   "source": [
    "# Define the function to show the properties.\n",
    "def output(ED_residual):\n",
    "    adf = ts.adfuller(ED_residual)\n",
    "    adf_p = adf[1]\n",
    "    hf = HF(AR_1(ED_residual).params[1])\n",
    "    ED_std = ED_residual.std()\n",
    "    return [adf_p,hf,ED_std]"
   ]
  },
  {
   "cell_type": "code",
   "execution_count": 20,
   "metadata": {
    "collapsed": true
   },
   "outputs": [],
   "source": [
    "ED1_residual_ = output(ED1_residual)"
   ]
  },
  {
   "cell_type": "code",
   "execution_count": 21,
   "metadata": {
    "collapsed": true
   },
   "outputs": [],
   "source": [
    "# Hihglight the results for 2y, 3y, 4y, 5y futures.\n",
    "ED8_residual = generate_ts(residual_list,7)[0]\n",
    "ED12_residual = generate_ts(residual_list,11)[0]\n",
    "ED16_residual = generate_ts(residual_list,15)[0]\n",
    "ED20_residual = generate_ts(residual_list,19)[0]"
   ]
  },
  {
   "cell_type": "code",
   "execution_count": 22,
   "metadata": {
    "collapsed": true
   },
   "outputs": [],
   "source": [
    "def print_p(ED_residual):\n",
    "    list_ = output(ED_residual)\n",
    "    print('The ADF test p-value is: %.6f'%list_[0])\n",
    "    print('The half-life is: %.6f'%list_[1])\n",
    "    print('The standard error is: %.6f'%list_[2])"
   ]
  },
  {
   "cell_type": "code",
   "execution_count": 23,
   "metadata": {},
   "outputs": [
    {
     "name": "stdout",
     "output_type": "stream",
     "text": [
      "The outcome of 2y Reiduals: \n",
      "\n",
      "The ADF test p-value is: 0.442383\n",
      "The half-life is: 54.117579\n",
      "The standard error is: 0.497832\n"
     ]
    }
   ],
   "source": [
    "# For 2 year.\n",
    "print('The outcome of 2y Reiduals: \\n')\n",
    "print_p(ED8_residual)"
   ]
  },
  {
   "cell_type": "code",
   "execution_count": 24,
   "metadata": {},
   "outputs": [
    {
     "name": "stdout",
     "output_type": "stream",
     "text": [
      "The outcome of 3y Reiduals: \n",
      "\n",
      "The ADF test p-value is: 0.411555\n",
      "The half-life is: 73.711567\n",
      "The standard error is: 0.717492\n"
     ]
    }
   ],
   "source": [
    "# For 3 year.\n",
    "print('The outcome of 3y Reiduals: \\n')\n",
    "print_p(ED12_residual)"
   ]
  },
  {
   "cell_type": "code",
   "execution_count": 25,
   "metadata": {},
   "outputs": [
    {
     "name": "stdout",
     "output_type": "stream",
     "text": [
      "The outcome of 4y Reiduals: \n",
      "\n",
      "The ADF test p-value is: 0.400511\n",
      "The half-life is: 89.003734\n",
      "The standard error is: 0.795682\n"
     ]
    }
   ],
   "source": [
    "# For 4 year.\n",
    "print('The outcome of 4y Reiduals: \\n')\n",
    "print_p(ED16_residual)"
   ]
  },
  {
   "cell_type": "code",
   "execution_count": 26,
   "metadata": {},
   "outputs": [
    {
     "name": "stdout",
     "output_type": "stream",
     "text": [
      "The outcome of 5y Reiduals: \n",
      "\n",
      "The ADF test p-value is: 0.367011\n",
      "The half-life is: 52.890007\n",
      "The standard error is: 0.815999\n"
     ]
    }
   ],
   "source": [
    "# For 5 year.\n",
    "print('The outcome of 5y Reiduals: \\n')\n",
    "print_p(ED20_residual)"
   ]
  },
  {
   "cell_type": "code",
   "execution_count": 27,
   "metadata": {
    "collapsed": true
   },
   "outputs": [],
   "source": [
    "# 2.2 Cointegrated pairs of residuals & signal analysis.\n",
    "# 1. Construct cointegrated pairs of the residuals, using the combinations and weights determined in 1.1.\n",
    "C = sample_A.cov()\n",
    "evals, evecs = np.linalg.eig(C)\n",
    "indices = np.argsort(evals)\n",
    "indices = indices[::-1]\n",
    "evecs = evecs[:,indices]\n",
    "evals = evals[indices]\n",
    "w = [evecs[7,0]/evecs[11,0], evecs[11,0]/evecs[15,0], evecs[15,0]/evecs[19,0],\n",
    "     evecs[7,0]/evecs[15,0], evecs[11,0]/evecs[19,0]]\n",
    "pair_1 = ED8_residual - w[0] * ED12_residual\n",
    "pair_2 = ED12_residual - w[1] * ED16_residual\n",
    "pair_3 = ED16_residual - w[2] * ED20_residual\n",
    "pair_4 = ED8_residual - w[3] * ED16_residual\n",
    "pair_5 = ED12_residual - w[4] * ED20_residual"
   ]
  },
  {
   "cell_type": "code",
   "execution_count": 28,
   "metadata": {},
   "outputs": [
    {
     "name": "stdout",
     "output_type": "stream",
     "text": [
      "AR(1) model is: \n",
      "\n",
      "AR(1) model of pair 1 is: Yt = -0.007477 + 0.984395 * Yt-1\n",
      "AR(1) model of pair 2 is: Yt = -0.001692 + 0.989006 * Yt-1\n",
      "AR(1) model of pair 3 is: Yt = 0.010644 + 0.725586 * Yt-1\n",
      "AR(1) model of pair 4 is: Yt = -0.006702 + 0.988282 * Yt-1\n",
      "AR(1) model of pair 5 is: Yt = -0.010772 + 0.929906 * Yt-1\n"
     ]
    }
   ],
   "source": [
    "fit_1 = AR_1(pair_1).params\n",
    "fit_2 = AR_1(pair_2).params\n",
    "fit_3 = AR_1(pair_3).params\n",
    "fit_4 = AR_1(pair_4).params\n",
    "fit_5 = AR_1(pair_5).params\n",
    "print('AR(1) model is: \\n')\n",
    "print('AR(1) model of pair 1 is: Yt = %f + %f * Yt-1'%(fit_1[0], fit_1[1]))\n",
    "print('AR(1) model of pair 2 is: Yt = %f + %f * Yt-1'%(fit_2[0], fit_2[1]))\n",
    "print('AR(1) model of pair 3 is: Yt = %f + %f * Yt-1'%(fit_3[0], fit_3[1]))\n",
    "print('AR(1) model of pair 4 is: Yt = %f + %f * Yt-1'%(fit_4[0], fit_4[1]))\n",
    "print('AR(1) model of pair 5 is: Yt = %f + %f * Yt-1'%(fit_5[0], fit_5[1]))"
   ]
  },
  {
   "cell_type": "code",
   "execution_count": 29,
   "metadata": {
    "collapsed": true
   },
   "outputs": [],
   "source": [
    "def EMA_AR_1(lambda_, data):\n",
    "    M = data.dropna()\n",
    "    for i in range(1,len(M)):\n",
    "        M[i] = (1 - lambda_)*M[i-1] + lambda_ * data[i]\n",
    "    data_EMA = data - M\n",
    "    # Use this model to fit the AR(1) model.\n",
    "    return AR_1(data_EMA), data_EMA"
   ]
  },
  {
   "cell_type": "code",
   "execution_count": 30,
   "metadata": {
    "collapsed": true
   },
   "outputs": [],
   "source": [
    "def error(lambda_, data):\n",
    "    EMA_fit = EMA_AR_1(lambda_, data)[0].params\n",
    "    hf = HF(EMA_fit[1])\n",
    "    error = abs(hf - 5)\n",
    "    return error"
   ]
  },
  {
   "cell_type": "code",
   "execution_count": 31,
   "metadata": {},
   "outputs": [
    {
     "name": "stderr",
     "output_type": "stream",
     "text": [
      "E:\\Python\\lib\\site-packages\\ipykernel_launcher.py:4: RuntimeWarning: overflow encountered in multiply\n",
      "  after removing the cwd from sys.path.\n",
      "E:\\Python\\lib\\site-packages\\numpy\\linalg\\linalg.py:1574: RuntimeWarning: invalid value encountered in greater\n",
      "  return (S > tol).sum(axis=-1)\n"
     ]
    }
   ],
   "source": [
    "initial_lambda = 0.1\n",
    "lambda_1 = opt.leastsq(error, initial_lambda, args = pair_1)[0]\n",
    "lambda_2 = opt.leastsq(error, initial_lambda, args = pair_2)[0]\n",
    "lambda_3 = opt.leastsq(error, initial_lambda, args = pair_3)[0]\n",
    "lambda_4 = opt.leastsq(error, initial_lambda, args = pair_4)[0]\n",
    "lambda_5 = opt.leastsq(error, initial_lambda, args = pair_5)[0]"
   ]
  },
  {
   "cell_type": "code",
   "execution_count": 32,
   "metadata": {},
   "outputs": [
    {
     "name": "stdout",
     "output_type": "stream",
     "text": [
      "Opitimized lambda for each EMA paris: \n",
      "\n",
      "lambda_1 for Half-Life ~5days of EMA_1 = 0.049055\n",
      "lambda_2 for Half-Life ~5days of EMA_2 = 0.053806\n",
      "lambda_3 for Half-Life ~5days of EMA_3 = -0.005792\n",
      "lambda_4 for Half-Life ~5days of EMA_4 = 0.054425\n",
      "lambda_5 for Half-Life ~5days of EMA_5 = 0.008287\n"
     ]
    }
   ],
   "source": [
    "print('Opitimized lambda for each EMA paris: \\n')\n",
    "print('lambda_1 for Half-Life ~5days of EMA_1 = %f'%(lambda_1))\n",
    "print('lambda_2 for Half-Life ~5days of EMA_2 = %f'%(lambda_2))\n",
    "print('lambda_3 for Half-Life ~5days of EMA_3 = %f'%(lambda_3))\n",
    "print('lambda_4 for Half-Life ~5days of EMA_4 = %f'%(lambda_4))\n",
    "print('lambda_5 for Half-Life ~5days of EMA_5 = %f'%(lambda_5))"
   ]
  },
  {
   "cell_type": "code",
   "execution_count": 33,
   "metadata": {
    "collapsed": true
   },
   "outputs": [],
   "source": [
    "fit_EMA1 = EMA_AR_1(lambda_1,pair_1)[0].params\n",
    "fit_EMA2 = EMA_AR_1(lambda_2,pair_2)[0].params\n",
    "fit_EMA3 = EMA_AR_1(lambda_3,pair_3)[0].params\n",
    "fit_EMA4 = EMA_AR_1(lambda_4,pair_4)[0].params\n",
    "fit_EMA5 = EMA_AR_1(lambda_5,pair_5)[0].params"
   ]
  }
 ],
 "metadata": {
  "kernelspec": {
   "display_name": "Python 3",
   "language": "python",
   "name": "python3"
  },
  "language_info": {
   "codemirror_mode": {
    "name": "ipython",
    "version": 3
   },
   "file_extension": ".py",
   "mimetype": "text/x-python",
   "name": "python",
   "nbconvert_exporter": "python",
   "pygments_lexer": "ipython3",
   "version": "3.6.5"
  }
 },
 "nbformat": 4,
 "nbformat_minor": 2
}
