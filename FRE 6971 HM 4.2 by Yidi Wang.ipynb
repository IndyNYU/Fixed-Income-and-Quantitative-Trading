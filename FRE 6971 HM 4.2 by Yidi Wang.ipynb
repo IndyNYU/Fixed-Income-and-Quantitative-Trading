{
 "cells": [
  {
   "cell_type": "code",
   "execution_count": 1,
   "metadata": {
    "collapsed": true
   },
   "outputs": [],
   "source": [
    "import quandl\n",
    "import pandas as pd\n",
    "import numpy as np"
   ]
  },
  {
   "cell_type": "code",
   "execution_count": 2,
   "metadata": {
    "collapsed": true
   },
   "outputs": [],
   "source": [
    "token = \"LRiiiFFLhBXpxpGz2THc\"\n",
    "n = range(1,9)\n",
    "nms = [\"CHRIS/CME_ED\"+str(i) for i in n]\n",
    "dfs = [quandl.get(nm, authtoken=token,start_date='2004-01-01', end_date='2007-03-31') for nm in nms]"
   ]
  },
  {
   "cell_type": "code",
   "execution_count": 3,
   "metadata": {
    "collapsed": true
   },
   "outputs": [],
   "source": [
    "edf_8 = dfs[0:8]"
   ]
  },
  {
   "cell_type": "code",
   "execution_count": 4,
   "metadata": {
    "collapsed": true
   },
   "outputs": [],
   "source": [
    "edf1 = edf_8[0][[\"Settle\"]]\n",
    "edf2 = edf_8[1][[\"Settle\"]]\n",
    "edf3 = edf_8[2][[\"Settle\"]]\n",
    "edf4 = edf_8[3][[\"Settle\"]]\n",
    "edf5 = edf_8[4][[\"Settle\"]]\n",
    "edf6 = edf_8[5][[\"Settle\"]]\n",
    "edf7 = edf_8[6][[\"Settle\"]]\n",
    "edf8 = edf_8[7][[\"Settle\"]]"
   ]
  },
  {
   "cell_type": "code",
   "execution_count": 5,
   "metadata": {
    "collapsed": true
   },
   "outputs": [],
   "source": [
    "edf1_in = edf1[\"2004-01-02\":\"2006-12-31\"]\n",
    "edf1_out = edf1[\"2006-01-01\":\"2007-03-30\"]\n",
    "\n",
    "edf2_in = edf2[\"2004-01-02\":\"2006-12-31\"]\n",
    "edf2_out = edf2[\"2006-01-01\":\"2007-03-30\"]\n",
    "\n",
    "edf3_in = edf3[\"2004-01-02\":\"2006-12-31\"]\n",
    "edf3_out = edf3[\"2006-01-01\":\"2007-03-30\"]\n",
    "\n",
    "edf4_in = edf4[\"2004-01-02\":\"2006-12-31\"]\n",
    "edf4_out = edf4[\"2006-01-01\":\"2007-03-30\"]\n",
    "\n",
    "edf5_in = edf5[\"2004-01-02\":\"2006-12-31\"]\n",
    "edf5_out = edf5[\"2006-01-01\":\"2007-03-30\"]\n",
    "\n",
    "edf6_in = edf6[\"2004-01-02\":\"2006-12-31\"]\n",
    "edf6_out = edf6[\"2006-01-01\":\"2007-03-30\"]\n",
    "\n",
    "edf7_in = edf7[\"2004-01-02\":\"2006-12-31\"]\n",
    "edf7_out = edf7[\"2006-01-01\":\"2007-03-30\"]\n",
    "\n",
    "edf8_in = edf8[\"2004-01-02\":\"2006-12-31\"]\n",
    "edf8_out = edf8[\"2006-01-01\":\"2007-03-30\"]"
   ]
  },
  {
   "cell_type": "code",
   "execution_count": 6,
   "metadata": {
    "collapsed": true
   },
   "outputs": [],
   "source": [
    "df12 = pd.concat([edf1_in, edf2_in], axis=1)\n",
    "df13 = pd.concat([edf1_in, edf3_in], axis=1)\n",
    "df68 = pd.concat([edf6_in, edf8_in], axis=1)\n",
    "df78 = pd.concat([edf7_in, edf8_in], axis=1)"
   ]
  },
  {
   "cell_type": "code",
   "execution_count": 7,
   "metadata": {},
   "outputs": [
    {
     "name": "stderr",
     "output_type": "stream",
     "text": [
      "E:\\Python\\lib\\site-packages\\statsmodels\\compat\\pandas.py:56: FutureWarning: The pandas.core.datetools module is deprecated and will be removed in a future version. Please use the pandas.tseries module instead.\n",
      "  from pandas.core import datetools\n"
     ]
    }
   ],
   "source": [
    "# CCA function\n",
    "import statsmodels.api as sm\n",
    "def CCA_Chou_Ng(data_set):\n",
    "    df_lag = data_set.shift(1).dropna()\n",
    "    df = data_set.drop(data_set.index[0]).dropna()\n",
    "    n = len(data_set.columns)\n",
    "    \n",
    "    X = df_lag.as_matrix()\n",
    "    X_I = sm.add_constant(X)\n",
    "    Y = df.as_matrix()\n",
    "    l1 = sm.OLS(Y, X_I).fit()\n",
    "    B = l1.params[1:(n+1)]\n",
    "    \n",
    "    Y_I = sm.add_constant(X)\n",
    "    l2 = sm.OLS(X, Y_I).fit()\n",
    "    A = l2.params[1:(n+1)]\n",
    "    C = np.dot(A,B)\n",
    "    eig_val, eig_vec = np.linalg.eig(C)\n",
    "    return eig_val, eig_vec, C"
   ]
  },
  {
   "cell_type": "code",
   "execution_count": 8,
   "metadata": {
    "collapsed": true
   },
   "outputs": [],
   "source": [
    "list_in = [df12, df13, df78, df68]\n",
    "list_w = [ ]"
   ]
  },
  {
   "cell_type": "code",
   "execution_count": 9,
   "metadata": {
    "collapsed": true
   },
   "outputs": [],
   "source": [
    "for df in list_in:\n",
    "    val, vec, C = CCA_Chou_Ng(df)\n",
    "    w = val[1] / val[0]\n",
    "    list_w.append(w)"
   ]
  },
  {
   "cell_type": "code",
   "execution_count": 10,
   "metadata": {},
   "outputs": [
    {
     "data": {
      "text/plain": [
       "[1.0393072606839022,\n",
       " 1.0277184752018766,\n",
       " 0.97543200023912791,\n",
       " 0.97856191501134515]"
      ]
     },
     "execution_count": 10,
     "metadata": {},
     "output_type": "execute_result"
    }
   ],
   "source": [
    "list_w"
   ]
  },
  {
   "cell_type": "code",
   "execution_count": 11,
   "metadata": {
    "collapsed": true
   },
   "outputs": [],
   "source": [
    "CCA12_in = edf1_in - list_w[0] * edf2_in\n",
    "CCA13_in = edf1_in - list_w[1] * edf3_in\n",
    "CCA78_in = edf7_in - list_w[2] * edf8_in\n",
    "CCA68_in = edf6_in - list_w[3] * edf8_in"
   ]
  },
  {
   "cell_type": "code",
   "execution_count": 12,
   "metadata": {},
   "outputs": [
    {
     "name": "stdout",
     "output_type": "stream",
     "text": [
      "           Settle\n",
      "count  762.000000\n",
      "mean    -3.587913\n",
      "std      0.153362\n",
      "min     -3.971045\n",
      "25%     -3.696244\n",
      "50%     -3.585174\n",
      "75%     -3.470816\n",
      "max     -3.207002\n",
      "0.130449779615\n",
      "           Settle\n",
      "count  762.000000\n",
      "mean    -2.343479\n",
      "std      0.327008\n",
      "min     -3.153106\n",
      "25%     -2.575944\n",
      "50%     -2.343644\n",
      "75%     -2.124116\n",
      "max     -1.522978\n",
      "0.5193253833\n",
      "           Settle\n",
      "count  761.000000\n",
      "mean     2.432707\n",
      "std      0.113202\n",
      "min      2.315666\n",
      "25%      2.348924\n",
      "50%      2.371158\n",
      "75%      2.518478\n",
      "max      2.714693\n",
      "0.293485042632\n",
      "           Settle\n",
      "count  760.000000\n",
      "mean     2.227185\n",
      "std      0.236015\n",
      "min      1.972476\n",
      "25%      2.050622\n",
      "50%      2.092551\n",
      "75%      2.402363\n",
      "max      2.785528\n",
      "0.281552728499\n"
     ]
    }
   ],
   "source": [
    "import statsmodels.tsa.stattools as ts\n",
    "list_in = [CCA12_in, CCA13_in, CCA78_in, CCA68_in]\n",
    "for CCA_in in list_in:\n",
    "    print(CCA_in.describe())\n",
    "    adf = ts.adfuller(CCA_in['Settle'].dropna())\n",
    "    print(adf[1])"
   ]
  },
  {
   "cell_type": "code",
   "execution_count": 13,
   "metadata": {
    "collapsed": true
   },
   "outputs": [],
   "source": [
    "CCA12_out = edf1_out - list_w[0] * edf2_out\n",
    "CCA13_out = edf1_out - list_w[1] * edf3_out\n",
    "CCA68_out = edf6_out - list_w[2] * edf8_out\n",
    "CCA78_out = edf7_out - list_w[3] * edf8_out"
   ]
  },
  {
   "cell_type": "code",
   "execution_count": 14,
   "metadata": {},
   "outputs": [
    {
     "name": "stdout",
     "output_type": "stream",
     "text": [
      "           Settle\n",
      "count  320.000000\n",
      "mean    -3.737086\n",
      "std      0.109893\n",
      "min     -3.971045\n",
      "25%     -3.816653\n",
      "50%     -3.725556\n",
      "75%     -3.668036\n",
      "max     -3.475901\n",
      "0.828913341998\n",
      "           Settle\n",
      "count  320.000000\n",
      "mean    -2.723670\n",
      "std      0.190018\n",
      "min     -3.153106\n",
      "25%     -2.872006\n",
      "50%     -2.714108\n",
      "75%     -2.585486\n",
      "max     -2.315157\n",
      "0.866867555774\n",
      "           Settle\n",
      "count  320.000000\n",
      "mean     2.045953\n",
      "std      0.011582\n",
      "min      2.021725\n",
      "25%      2.038362\n",
      "50%      2.044313\n",
      "75%      2.053664\n",
      "max      2.087368\n",
      "0.00455219347169\n",
      "           Settle\n",
      "count  319.000000\n",
      "mean     2.336092\n",
      "std      0.025035\n",
      "min      2.269943\n",
      "25%      2.321301\n",
      "50%      2.334378\n",
      "75%      2.350416\n",
      "max      2.409820\n",
      "0.0063690657243\n"
     ]
    }
   ],
   "source": [
    "list_out = [CCA12_out, CCA13_out, CCA78_out, CCA68_out]\n",
    "for CCA_out in list_out:\n",
    "    print(CCA_out.describe())\n",
    "    adf = ts.adfuller(CCA_out['Settle'].dropna())\n",
    "    print(adf[1])"
   ]
  },
  {
   "cell_type": "code",
   "execution_count": 25,
   "metadata": {
    "scrolled": true
   },
   "outputs": [
    {
     "data": {
      "text/plain": [
       "'3/17/2004'"
      ]
     },
     "execution_count": 25,
     "metadata": {},
     "output_type": "execute_result"
    }
   ],
   "source": [
    "df_imm = pd.read_csv(\"D:/immDate.csv\",index_col='Date')\n",
    "df_imm = df_imm['1/2/2004':'3/30/2007']\n",
    "ED1_imm = df_imm['ED1']"
   ]
  }
 ],
 "metadata": {
  "kernelspec": {
   "display_name": "Python 3",
   "language": "python",
   "name": "python3"
  },
  "language_info": {
   "codemirror_mode": {
    "name": "ipython",
    "version": 3
   },
   "file_extension": ".py",
   "mimetype": "text/x-python",
   "name": "python",
   "nbconvert_exporter": "python",
   "pygments_lexer": "ipython3",
   "version": "3.6.5"
  }
 },
 "nbformat": 4,
 "nbformat_minor": 2
}
