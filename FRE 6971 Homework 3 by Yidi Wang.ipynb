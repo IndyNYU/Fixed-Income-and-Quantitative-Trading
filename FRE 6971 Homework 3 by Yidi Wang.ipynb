{
 "cells": [
  {
   "cell_type": "code",
   "execution_count": 1,
   "metadata": {
    "collapsed": true
   },
   "outputs": [],
   "source": [
    "import quandl\n",
    "import pandas as pd\n",
    "import numpy as np"
   ]
  },
  {
   "cell_type": "code",
   "execution_count": 2,
   "metadata": {
    "collapsed": true
   },
   "outputs": [],
   "source": [
    "token = \"LRiiiFFLhBXpxpGz2THc\"\n",
    "n = range(1,21)\n",
    "nms = [\"CHRIS/CME_ED\"+str(i) for i in n]\n",
    "dfs = [quandl.get(nm, authtoken=token,start_date='2004-01-01', end_date='2007-03-31') for nm in nms]"
   ]
  },
  {
   "cell_type": "code",
   "execution_count": 3,
   "metadata": {},
   "outputs": [
    {
     "data": {
      "text/html": [
       "<div>\n",
       "<style scoped>\n",
       "    .dataframe tbody tr th:only-of-type {\n",
       "        vertical-align: middle;\n",
       "    }\n",
       "\n",
       "    .dataframe tbody tr th {\n",
       "        vertical-align: top;\n",
       "    }\n",
       "\n",
       "    .dataframe thead th {\n",
       "        text-align: right;\n",
       "    }\n",
       "</style>\n",
       "<table border=\"1\" class=\"dataframe\">\n",
       "  <thead>\n",
       "    <tr style=\"text-align: right;\">\n",
       "      <th></th>\n",
       "      <th>Open</th>\n",
       "      <th>High</th>\n",
       "      <th>Low</th>\n",
       "      <th>Last</th>\n",
       "      <th>Settle</th>\n",
       "      <th>Volume</th>\n",
       "      <th>Previous Day Open Interest</th>\n",
       "    </tr>\n",
       "  </thead>\n",
       "  <tbody>\n",
       "    <tr>\n",
       "      <th>count</th>\n",
       "      <td>828.000000</td>\n",
       "      <td>828.000000</td>\n",
       "      <td>828.000000</td>\n",
       "      <td>828.000000</td>\n",
       "      <td>828.000000</td>\n",
       "      <td>828.000000</td>\n",
       "      <td>8.280000e+02</td>\n",
       "    </tr>\n",
       "    <tr>\n",
       "      <th>mean</th>\n",
       "      <td>96.237714</td>\n",
       "      <td>96.248569</td>\n",
       "      <td>96.226478</td>\n",
       "      <td>96.237275</td>\n",
       "      <td>96.237275</td>\n",
       "      <td>51617.814010</td>\n",
       "      <td>1.148278e+06</td>\n",
       "    </tr>\n",
       "    <tr>\n",
       "      <th>std</th>\n",
       "      <td>1.505202</td>\n",
       "      <td>1.504881</td>\n",
       "      <td>1.504876</td>\n",
       "      <td>1.504970</td>\n",
       "      <td>1.504970</td>\n",
       "      <td>48155.420375</td>\n",
       "      <td>2.484761e+05</td>\n",
       "    </tr>\n",
       "    <tr>\n",
       "      <th>min</th>\n",
       "      <td>94.335000</td>\n",
       "      <td>94.335000</td>\n",
       "      <td>94.320000</td>\n",
       "      <td>94.325000</td>\n",
       "      <td>94.325000</td>\n",
       "      <td>610.000000</td>\n",
       "      <td>0.000000e+00</td>\n",
       "    </tr>\n",
       "    <tr>\n",
       "      <th>25%</th>\n",
       "      <td>94.717000</td>\n",
       "      <td>94.732000</td>\n",
       "      <td>94.695250</td>\n",
       "      <td>94.710000</td>\n",
       "      <td>94.710000</td>\n",
       "      <td>25990.250000</td>\n",
       "      <td>9.351535e+05</td>\n",
       "    </tr>\n",
       "    <tr>\n",
       "      <th>50%</th>\n",
       "      <td>96.015000</td>\n",
       "      <td>96.020000</td>\n",
       "      <td>96.010000</td>\n",
       "      <td>96.016000</td>\n",
       "      <td>96.016000</td>\n",
       "      <td>37173.500000</td>\n",
       "      <td>1.193267e+06</td>\n",
       "    </tr>\n",
       "    <tr>\n",
       "      <th>75%</th>\n",
       "      <td>97.661250</td>\n",
       "      <td>97.676250</td>\n",
       "      <td>97.655000</td>\n",
       "      <td>97.670000</td>\n",
       "      <td>97.670000</td>\n",
       "      <td>58013.250000</td>\n",
       "      <td>1.311500e+06</td>\n",
       "    </tr>\n",
       "    <tr>\n",
       "      <th>max</th>\n",
       "      <td>98.890000</td>\n",
       "      <td>98.892000</td>\n",
       "      <td>98.890000</td>\n",
       "      <td>98.890000</td>\n",
       "      <td>98.890000</td>\n",
       "      <td>425900.000000</td>\n",
       "      <td>1.710300e+06</td>\n",
       "    </tr>\n",
       "  </tbody>\n",
       "</table>\n",
       "</div>"
      ],
      "text/plain": [
       "             Open        High         Low        Last      Settle  \\\n",
       "count  828.000000  828.000000  828.000000  828.000000  828.000000   \n",
       "mean    96.237714   96.248569   96.226478   96.237275   96.237275   \n",
       "std      1.505202    1.504881    1.504876    1.504970    1.504970   \n",
       "min     94.335000   94.335000   94.320000   94.325000   94.325000   \n",
       "25%     94.717000   94.732000   94.695250   94.710000   94.710000   \n",
       "50%     96.015000   96.020000   96.010000   96.016000   96.016000   \n",
       "75%     97.661250   97.676250   97.655000   97.670000   97.670000   \n",
       "max     98.890000   98.892000   98.890000   98.890000   98.890000   \n",
       "\n",
       "              Volume  Previous Day Open Interest  \n",
       "count     828.000000                8.280000e+02  \n",
       "mean    51617.814010                1.148278e+06  \n",
       "std     48155.420375                2.484761e+05  \n",
       "min       610.000000                0.000000e+00  \n",
       "25%     25990.250000                9.351535e+05  \n",
       "50%     37173.500000                1.193267e+06  \n",
       "75%     58013.250000                1.311500e+06  \n",
       "max    425900.000000                1.710300e+06  "
      ]
     },
     "execution_count": 3,
     "metadata": {},
     "output_type": "execute_result"
    }
   ],
   "source": [
    "dfs[0].describe()"
   ]
  },
  {
   "cell_type": "code",
   "execution_count": 4,
   "metadata": {},
   "outputs": [
    {
     "data": {
      "text/plain": [
       "array([    293.30063291,     309.67138365,     340.49921011,\n",
       "           401.73427673,     605.05023548,     661.87284144,\n",
       "           816.43171115,    1279.49921507,    4862.6777939 ,\n",
       "          7719.71314741,   11446.58801956,   17511.65651644,\n",
       "         43126.40242424,   51617.81400966,   62880.41767554,\n",
       "         93568.8874092 ,   94362.80727273,  120544.77723971,\n",
       "        137931.49757869,  142171.50847458])"
      ]
     },
     "execution_count": 4,
     "metadata": {},
     "output_type": "execute_result"
    }
   ],
   "source": [
    "ls = []\n",
    "for i in range(0,20):\n",
    "    l = dfs[i].describe().iloc[1,5]\n",
    "    ls.append(l)\n",
    "sort(ls)"
   ]
  },
  {
   "cell_type": "code",
   "execution_count": 5,
   "metadata": {
    "collapsed": true
   },
   "outputs": [],
   "source": [
    "# So the frist 8 rolling Eurodollar futures are:\n",
    "# CHRIS/CME_ED4, CHRIS/CME_ED5, CHRIS/CME_ED3, CHRIS/CME_ED6,\n",
    "# CHRIS/CME_ED2, CHRIS/CME_ED7, CHRIS/CME_ED1, CHRIS/CME_ED8.\n",
    "edf_8 = dfs[0:8]"
   ]
  },
  {
   "cell_type": "code",
   "execution_count": 6,
   "metadata": {
    "collapsed": true
   },
   "outputs": [],
   "source": [
    "edf1 = edf_8[0][[\"Settle\"]]\n",
    "edf2 = edf_8[1][[\"Settle\"]]\n",
    "edf3 = edf_8[2][[\"Settle\"]]\n",
    "edf4 = edf_8[3][[\"Settle\"]]\n",
    "edf5 = edf_8[4][[\"Settle\"]]\n",
    "edf6 = edf_8[5][[\"Settle\"]]\n",
    "edf7 = edf_8[6][[\"Settle\"]]\n",
    "edf8 = edf_8[7][[\"Settle\"]]"
   ]
  },
  {
   "cell_type": "code",
   "execution_count": 7,
   "metadata": {
    "collapsed": true
   },
   "outputs": [],
   "source": [
    "edf1_in = edf1[\"2004-01-02\":\"2006-12-31\"]\n",
    "edf1_out = edf1[\"2006-01-01\":\"2007-03-30\"]\n",
    "\n",
    "edf2_in = edf2[\"2004-01-02\":\"2006-12-31\"]\n",
    "edf2_out = edf2[\"2006-01-01\":\"2007-03-30\"]\n",
    "\n",
    "edf3_in = edf3[\"2004-01-02\":\"2006-12-31\"]\n",
    "edf3_out = edf3[\"2006-01-01\":\"2007-03-30\"]\n",
    "\n",
    "edf4_in = edf4[\"2004-01-02\":\"2006-12-31\"]\n",
    "edf4_out = edf4[\"2006-01-01\":\"2007-03-30\"]\n",
    "\n",
    "edf5_in = edf5[\"2004-01-02\":\"2006-12-31\"]\n",
    "edf5_out = edf5[\"2006-01-01\":\"2007-03-30\"]\n",
    "\n",
    "edf6_in = edf6[\"2004-01-02\":\"2006-12-31\"]\n",
    "edf6_out = edf6[\"2006-01-01\":\"2007-03-30\"]\n",
    "\n",
    "edf7_in = edf7[\"2004-01-02\":\"2006-12-31\"]\n",
    "edf7_out = edf7[\"2006-01-01\":\"2007-03-30\"]\n",
    "\n",
    "edf8_in = edf8[\"2004-01-02\":\"2006-12-31\"]\n",
    "edf8_out = edf8[\"2006-01-01\":\"2007-03-30\"]"
   ]
  },
  {
   "cell_type": "code",
   "execution_count": 8,
   "metadata": {
    "collapsed": true
   },
   "outputs": [],
   "source": [
    "df12 = pd.concat([edf1_in, edf2_in], axis=1)\n",
    "df13 = pd.concat([edf1_in, edf3_in], axis=1)\n",
    "df14 = pd.concat([edf1_in, edf4_in], axis=1)\n",
    "df15 = pd.concat([edf1_in, edf5_in], axis=1)\n",
    "df16 = pd.concat([edf1_in, edf6_in], axis=1)\n",
    "df17 = pd.concat([edf1_in, edf7_in], axis=1)\n",
    "df18 = pd.concat([edf1_in, edf8_in], axis=1)\n",
    "df23 = pd.concat([edf2_in, edf3_in], axis=1)\n",
    "df24 = pd.concat([edf2_in, edf4_in], axis=1)\n",
    "df25 = pd.concat([edf2_in, edf5_in], axis=1)\n",
    "df26 = pd.concat([edf2_in, edf6_in], axis=1)\n",
    "df27 = pd.concat([edf2_in, edf7_in], axis=1)\n",
    "df28 = pd.concat([edf2_in, edf8_in], axis=1)\n",
    "df34 = pd.concat([edf3_in, edf4_in], axis=1)\n",
    "df35 = pd.concat([edf3_in, edf5_in], axis=1)\n",
    "df36 = pd.concat([edf3_in, edf6_in], axis=1)\n",
    "df37 = pd.concat([edf3_in, edf7_in], axis=1)\n",
    "df38 = pd.concat([edf3_in, edf8_in], axis=1)\n",
    "df45 = pd.concat([edf4_in, edf5_in], axis=1)\n",
    "df46 = pd.concat([edf4_in, edf6_in], axis=1)\n",
    "df47 = pd.concat([edf4_in, edf7_in], axis=1)\n",
    "df48 = pd.concat([edf4_in, edf8_in], axis=1)\n",
    "df56 = pd.concat([edf5_in, edf6_in], axis=1)\n",
    "df57 = pd.concat([edf5_in, edf7_in], axis=1)\n",
    "df58 = pd.concat([edf5_in, edf8_in], axis=1)\n",
    "df67 = pd.concat([edf6_in, edf7_in], axis=1)\n",
    "df68 = pd.concat([edf6_in, edf8_in], axis=1)\n",
    "df78 = pd.concat([edf7_in, edf8_in], axis=1)"
   ]
  },
  {
   "cell_type": "code",
   "execution_count": 9,
   "metadata": {},
   "outputs": [
    {
     "name": "stderr",
     "output_type": "stream",
     "text": [
      "E:\\Python\\lib\\site-packages\\statsmodels\\compat\\pandas.py:56: FutureWarning: The pandas.core.datetools module is deprecated and will be removed in a future version. Please use the pandas.tseries module instead.\n",
      "  from pandas.core import datetools\n"
     ]
    }
   ],
   "source": [
    "# CCA function\n",
    "import statsmodels.api as sm\n",
    "def CCA_Chou_Ng(data_set):\n",
    "    df_lag = data_set.shift(1).dropna()\n",
    "    df = data_set.drop(data_set.index[0]).dropna()\n",
    "    n = len(data_set.columns)\n",
    "    \n",
    "    X = df_lag.as_matrix()\n",
    "    X_I = sm.add_constant(X)\n",
    "    Y = df.as_matrix()\n",
    "    l1 = sm.OLS(Y, X_I).fit()\n",
    "    B = l1.params[1:(n+1)]\n",
    "    \n",
    "    Y_I = sm.add_constant(X)\n",
    "    l2 = sm.OLS(X, Y_I).fit()\n",
    "    A = l2.params[1:(n+1)]\n",
    "    C = np.dot(A,B)\n",
    "    eig_val, eig_vec = np.linalg.eig(C)\n",
    "    return eig_val, eig_vec, C"
   ]
  },
  {
   "cell_type": "code",
   "execution_count": 10,
   "metadata": {
    "collapsed": true
   },
   "outputs": [],
   "source": [
    "# 3.1 Using Sample1 construct all possible conintegrated WSPR using CCA.\n",
    "# Obviously, there are C(8,2)=28 combinations of WSPRS.\n",
    "list_in = [df12, df13, df14, df15, df16, df17, df18,\n",
    "                 df23, df24, df25, df26, df27, df28,\n",
    "                       df34, df35, df36, df37, df38,\n",
    "                             df45, df46, df47, df48,\n",
    "                                   df56, df57, df58,\n",
    "                                         df67, df68,\n",
    "                                               df78]\n",
    "list_w = []\n",
    "for df in list_in:\n",
    "    val, vec, C = CCA_Chou_Ng(df)\n",
    "    w = val[1] / val[0]\n",
    "    list_w.append(w)"
   ]
  },
  {
   "cell_type": "code",
   "execution_count": 11,
   "metadata": {},
   "outputs": [
    {
     "data": {
      "text/plain": [
       "[1.0393072606839022,\n",
       " 1.0277184752018766,\n",
       " 0.97863945303366473,\n",
       " 0.97944053236393969,\n",
       " 0.97863475942615741,\n",
       " 0.97785666935679283,\n",
       " 0.97701770054673132,\n",
       " 0.97777118589287249,\n",
       " 0.9780061090507105,\n",
       " 0.97667390832652046,\n",
       " 0.97478275734012954,\n",
       " 0.97477456964563758,\n",
       " 0.97467241806109794,\n",
       " 0.97116069526680493,\n",
       " 0.97191707079360012,\n",
       " 0.97131599563817494,\n",
       " 0.97294880487440483,\n",
       " 0.9738682562084422,\n",
       " 0.97170540406659844,\n",
       " 0.97202215776092848,\n",
       " 0.97474123638883226,\n",
       " 0.97566824028757404,\n",
       " 0.9703719319067371,\n",
       " 0.97567851097375469,\n",
       " 0.97680201195180238,\n",
       " 0.97769682979773964,\n",
       " 0.97856191501134515,\n",
       " 0.97543200023912791]"
      ]
     },
     "execution_count": 11,
     "metadata": {},
     "output_type": "execute_result"
    }
   ],
   "source": [
    "list_w"
   ]
  },
  {
   "cell_type": "code",
   "execution_count": 12,
   "metadata": {
    "collapsed": true
   },
   "outputs": [],
   "source": [
    "CCA12_in = edf1_in - list_w[0] * edf2_in\n",
    "CCA13_in = edf1_in - list_w[1] * edf3_in\n",
    "CCA14_in = edf1_in - list_w[2] * edf4_in\n",
    "CCA15_in = edf1_in - list_w[3] * edf5_in\n",
    "CCA16_in = edf1_in - list_w[4] * edf6_in\n",
    "CCA17_in = edf1_in - list_w[5] * edf7_in\n",
    "CCA18_in = edf1_in - list_w[6] * edf8_in\n",
    "CCA23_in = edf2_in - list_w[7] * edf3_in\n",
    "CCA24_in = edf2_in - list_w[8] * edf4_in\n",
    "CCA25_in = edf2_in - list_w[9] * edf5_in\n",
    "CCA26_in = edf2_in - list_w[10] * edf6_in\n",
    "CCA27_in = edf2_in - list_w[11] * edf7_in\n",
    "CCA28_in = edf2_in - list_w[12] * edf8_in\n",
    "CCA34_in = edf3_in - list_w[13] * edf4_in\n",
    "CCA35_in = edf3_in - list_w[14] * edf5_in\n",
    "CCA36_in = edf3_in - list_w[15] * edf6_in\n",
    "CCA37_in = edf3_in - list_w[16] * edf7_in\n",
    "CCA38_in = edf3_in - list_w[17] * edf8_in\n",
    "CCA45_in = edf4_in - list_w[18] * edf5_in\n",
    "CCA46_in = edf4_in - list_w[19] * edf6_in\n",
    "CCA47_in = edf4_in - list_w[20] * edf7_in\n",
    "CCA48_in = edf4_in - list_w[21] * edf8_in\n",
    "CCA56_in = edf5_in - list_w[22] * edf6_in\n",
    "CCA57_in = edf5_in - list_w[23] * edf7_in\n",
    "CCA58_in = edf5_in - list_w[24] * edf8_in\n",
    "CCA67_in = edf6_in - list_w[25] * edf7_in\n",
    "CCA68_in = edf6_in - list_w[26] * edf8_in\n",
    "CCA78_in = edf7_in - list_w[27] * edf8_in"
   ]
  },
  {
   "cell_type": "code",
   "execution_count": 13,
   "metadata": {},
   "outputs": [
    {
     "name": "stdout",
     "output_type": "stream",
     "text": [
      "0.130449779615\n",
      "0.5193253833\n",
      "0.739588434389\n",
      "0.760365472102\n",
      "0.752365644866\n",
      "0.732924677419\n",
      "0.706638439894\n",
      "0.788486095784\n",
      "0.760300594334\n",
      "0.707795217073\n",
      "0.638652975272\n",
      "0.583640357123\n",
      "0.528404371068\n",
      "0.677103240483\n",
      "0.558493762666\n",
      "0.461840715236\n",
      "0.406279378799\n",
      "0.355945643406\n",
      "0.426361021942\n",
      "0.338718941464\n",
      "0.307714501132\n",
      "0.275484773152\n",
      "0.26981000339\n",
      "0.266365656783\n",
      "0.2466747431\n",
      "0.380802879969\n",
      "0.281552728499\n",
      "0.293485042632\n"
     ]
    }
   ],
   "source": [
    "import numpy as np \n",
    "import statsmodels.tsa.stattools as ts\n",
    "list_CCA_in = [CCA12_in, CCA13_in, CCA14_in, CCA15_in, CCA16_in, CCA17_in, CCA18_in,\n",
    "                         CCA23_in, CCA24_in, CCA25_in, CCA26_in, CCA27_in, CCA28_in,\n",
    "                                   CCA34_in, CCA35_in, CCA36_in, CCA37_in, CCA38_in,\n",
    "                                             CCA45_in, CCA46_in, CCA47_in, CCA48_in,\n",
    "                                                       CCA56_in, CCA57_in, CCA58_in,\n",
    "                                                                 CCA67_in, CCA68_in,\n",
    "                                                                           CCA78_in]\n",
    "for CCA_in in list_CCA_in:\n",
    "    adf = ts.adfuller(CCA_in['Settle'].dropna())\n",
    "    print(adf[1])"
   ]
  },
  {
   "cell_type": "code",
   "execution_count": 14,
   "metadata": {
    "collapsed": true
   },
   "outputs": [],
   "source": [
    "CCA12_out = edf1_out - list_w[0] * edf2_out\n",
    "CCA13_out = edf1_out - list_w[1] * edf3_out\n",
    "CCA14_out = edf1_out - list_w[2] * edf4_out\n",
    "CCA15_out = edf1_out - list_w[3] * edf5_out\n",
    "CCA16_out = edf1_out - list_w[4] * edf6_out\n",
    "CCA17_out = edf1_out - list_w[5] * edf7_out\n",
    "CCA18_out = edf1_out - list_w[6] * edf8_out\n",
    "CCA23_out = edf2_out - list_w[7] * edf3_out\n",
    "CCA24_out = edf2_out - list_w[8] * edf4_out\n",
    "CCA25_out = edf2_out - list_w[9] * edf5_out\n",
    "CCA26_out = edf2_out - list_w[10] * edf6_out\n",
    "CCA27_out = edf2_out - list_w[11] * edf7_out\n",
    "CCA28_out = edf2_out - list_w[12] * edf8_out\n",
    "CCA34_out = edf3_out - list_w[13] * edf4_out\n",
    "CCA35_out = edf3_out - list_w[14] * edf5_out\n",
    "CCA36_out = edf3_out - list_w[15] * edf6_out\n",
    "CCA37_out = edf3_out - list_w[16] * edf7_out\n",
    "CCA38_out = edf3_out - list_w[17] * edf8_out\n",
    "CCA45_out = edf4_out - list_w[18] * edf5_out\n",
    "CCA46_out = edf4_out - list_w[19] * edf6_out\n",
    "CCA47_out = edf4_out - list_w[20] * edf7_out\n",
    "CCA48_out = edf4_out - list_w[21] * edf8_out\n",
    "CCA56_out = edf5_out - list_w[22] * edf6_out\n",
    "CCA57_out = edf5_out - list_w[23] * edf7_out\n",
    "CCA58_out = edf5_out - list_w[24] * edf8_out\n",
    "CCA67_out = edf6_out - list_w[25] * edf7_out\n",
    "CCA68_out = edf6_out - list_w[26] * edf8_out\n",
    "CCA78_out = edf7_out - list_w[27] * edf8_out\n",
    "\n",
    "list_CCA_out = [CCA12_out, CCA13_out, CCA14_out, CCA15_out, CCA16_out, CCA17_out, CCA18_out,\n",
    "                           CCA23_out, CCA24_out, CCA25_out, CCA26_out, CCA27_out, CCA28_out,\n",
    "                                      CCA34_out, CCA35_out, CCA36_out, CCA37_out, CCA38_out,\n",
    "                                                 CCA45_out, CCA46_out, CCA47_out, CCA48_out,\n",
    "                                                            CCA56_out, CCA57_out, CCA58_out,\n",
    "                                                                       CCA67_out, CCA68_out,\n",
    "                                                                                  CCA78_out]"
   ]
  },
  {
   "cell_type": "code",
   "execution_count": 15,
   "metadata": {
    "scrolled": true
   },
   "outputs": [
    {
     "name": "stdout",
     "output_type": "stream",
     "text": [
      "0.828913341998\n",
      "0.866867555774\n",
      "0.451351742746\n",
      "0.530781971403\n",
      "0.546822064487\n",
      "0.520588513366\n",
      "0.482132210523\n",
      "0.446812230786\n",
      "0.438997558942\n",
      "0.476354435989\n",
      "0.376391698919\n",
      "0.316928082747\n",
      "0.263998102852\n",
      "0.38596348332\n",
      "0.175702654108\n",
      "0.108730036115\n",
      "0.0773770856717\n",
      "0.0565083937716\n",
      "0.012517541884\n",
      "0.0126203335476\n",
      "0.0109864268901\n",
      "0.00824477901199\n",
      "0.000978288919316\n",
      "0.00907148133608\n",
      "0.00830645396068\n",
      "0.0192490976948\n",
      "0.00634393856781\n",
      "0.00621983289003\n"
     ]
    }
   ],
   "source": [
    "for CCA_out in list_CCA_out:\n",
    "    adf = ts.adfuller(CCA_out['Settle'].dropna())\n",
    "    print(adf[1])"
   ]
  }
 ],
 "metadata": {
  "kernelspec": {
   "display_name": "Python 3",
   "language": "python",
   "name": "python3"
  },
  "language_info": {
   "codemirror_mode": {
    "name": "ipython",
    "version": 3
   },
   "file_extension": ".py",
   "mimetype": "text/x-python",
   "name": "python",
   "nbconvert_exporter": "python",
   "pygments_lexer": "ipython3",
   "version": "3.6.5"
  }
 },
 "nbformat": 4,
 "nbformat_minor": 2
}
